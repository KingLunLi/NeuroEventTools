{
 "cells": [
  {
   "cell_type": "code",
   "execution_count": 22,
   "id": "c74cac99",
   "metadata": {},
   "outputs": [],
   "source": [
    "import pandas as pd\n",
    "import numpy as np\n",
    "\n",
    "\n",
    "file_content = \"\"\"Event: Image, Onset: 0.5s\n",
    "Event: Sound, Onset: 1.2s\n",
    "Event: Image, Onset: 2.8s\"\"\""
   ]
  },
  {
   "cell_type": "code",
   "execution_count": 27,
   "id": "eaee8872",
   "metadata": {},
   "outputs": [
    {
     "name": "stdout",
     "output_type": "stream",
     "text": [
      "Sound\n",
      "1.2\n"
     ]
    }
   ],
   "source": [
    "events = file_content.splitlines()[1].split(\", \")[0].split(\": \")[1]\n",
    "print(events)\n",
    "Onsets = file_content.splitlines()[1].split(\", \")[1].split(\": \")[1][:-1]\n",
    "print(Onsets)\n",
    "\n",
    "# test = []\n",
    "test.append({\"testing\": events, \"testing1\": Onsets})"
   ]
  },
  {
   "cell_type": "code",
   "execution_count": 30,
   "id": "5d1dd4e5",
   "metadata": {},
   "outputs": [
    {
     "data": {
      "text/plain": [
       "[{'testing': 'Image', 'testing1': '0.5'},\n",
       " {'testing': 'Sound', 'testing1': '1.2'}]"
      ]
     },
     "execution_count": 30,
     "metadata": {},
     "output_type": "execute_result"
    }
   ],
   "source": [
    "test"
   ]
  },
  {
   "cell_type": "code",
   "execution_count": 29,
   "id": "fdc31ea1",
   "metadata": {},
   "outputs": [
    {
     "data": {
      "text/html": [
       "<div>\n",
       "<style scoped>\n",
       "    .dataframe tbody tr th:only-of-type {\n",
       "        vertical-align: middle;\n",
       "    }\n",
       "\n",
       "    .dataframe tbody tr th {\n",
       "        vertical-align: top;\n",
       "    }\n",
       "\n",
       "    .dataframe thead th {\n",
       "        text-align: right;\n",
       "    }\n",
       "</style>\n",
       "<table border=\"1\" class=\"dataframe\">\n",
       "  <thead>\n",
       "    <tr style=\"text-align: right;\">\n",
       "      <th></th>\n",
       "      <th>testing</th>\n",
       "      <th>testing1</th>\n",
       "    </tr>\n",
       "  </thead>\n",
       "  <tbody>\n",
       "    <tr>\n",
       "      <th>0</th>\n",
       "      <td>Image</td>\n",
       "      <td>0.5</td>\n",
       "    </tr>\n",
       "    <tr>\n",
       "      <th>1</th>\n",
       "      <td>Sound</td>\n",
       "      <td>1.2</td>\n",
       "    </tr>\n",
       "  </tbody>\n",
       "</table>\n",
       "</div>"
      ],
      "text/plain": [
       "  testing testing1\n",
       "0   Image      0.5\n",
       "1   Sound      1.2"
      ]
     },
     "execution_count": 29,
     "metadata": {},
     "output_type": "execute_result"
    }
   ],
   "source": [
    "pd.DataFrame(test)"
   ]
  },
  {
   "cell_type": "code",
   "execution_count": 11,
   "id": "9068a65f",
   "metadata": {},
   "outputs": [
    {
     "data": {
      "text/html": [
       "<div>\n",
       "<style scoped>\n",
       "    .dataframe tbody tr th:only-of-type {\n",
       "        vertical-align: middle;\n",
       "    }\n",
       "\n",
       "    .dataframe tbody tr th {\n",
       "        vertical-align: top;\n",
       "    }\n",
       "\n",
       "    .dataframe thead th {\n",
       "        text-align: right;\n",
       "    }\n",
       "</style>\n",
       "<table border=\"1\" class=\"dataframe\">\n",
       "  <thead>\n",
       "    <tr style=\"text-align: right;\">\n",
       "      <th></th>\n",
       "      <th>Event_type</th>\n",
       "      <th>Onset(s)</th>\n",
       "    </tr>\n",
       "  </thead>\n",
       "  <tbody>\n",
       "    <tr>\n",
       "      <th>0</th>\n",
       "      <td>Image</td>\n",
       "      <td>0.5</td>\n",
       "    </tr>\n",
       "    <tr>\n",
       "      <th>1</th>\n",
       "      <td>Sound</td>\n",
       "      <td>1.2</td>\n",
       "    </tr>\n",
       "    <tr>\n",
       "      <th>2</th>\n",
       "      <td>Image</td>\n",
       "      <td>2.8</td>\n",
       "    </tr>\n",
       "  </tbody>\n",
       "</table>\n",
       "</div>"
      ],
      "text/plain": [
       "  Event_type Onset(s)\n",
       "0      Image      0.5\n",
       "1      Sound      1.2\n",
       "2      Image      2.8"
      ]
     },
     "execution_count": 11,
     "metadata": {},
     "output_type": "execute_result"
    }
   ],
   "source": [
    "def parsing_events(content):\n",
    "    events= []\n",
    "\n",
    "    for lines in content.splitlines():\n",
    "        parts = lines.split(\", \")\n",
    "        event_type = parts[0].split(\": \")[1]\n",
    "        onset = parts[1].split(\": \")[1][:-1]\n",
    "\n",
    "        events.append({\"Event_type\": event_type, \"Onset(s)\": onset})\n",
    "    return pd.DataFrame(events)\n",
    "\n",
    "events_df = parsing_events(file_content)\n",
    "events_df"
   ]
  },
  {
   "cell_type": "code",
   "execution_count": 31,
   "id": "f607ac57",
   "metadata": {},
   "outputs": [],
   "source": [
    "file_content2 = \"\"\"[Event: \"Button Press\", Time: 0.8s]\n",
    "[Event: \"Light On\", Time: 1.4s]\n",
    "[Event: \"Sound Played\", Time: 2.2s]\n",
    "[Event: \"Button Press\", Time: 3.0s]\n",
    "[Event: \"Light Off\", Time: 4.1s]\n",
    "[Event: \"Sound Played\", Time: 5.5s]\n",
    "\"\"\""
   ]
  },
  {
   "cell_type": "code",
   "execution_count": 32,
   "id": "19c12456",
   "metadata": {},
   "outputs": [
    {
     "data": {
      "text/plain": [
       "'Button Press'"
      ]
     },
     "execution_count": 32,
     "metadata": {},
     "output_type": "execute_result"
    }
   ],
   "source": [
    "file_content2.splitlines()[0].strip('[]').split(\", \")[0].split(\": \")[1].strip('\"')"
   ]
  },
  {
   "cell_type": "code",
   "execution_count": null,
   "id": "11b8a6f7",
   "metadata": {},
   "outputs": [],
   "source": [
    "def parsing_events(content):\n",
    "    events = []\n",
    "    \n",
    "    "
   ]
  }
 ],
 "metadata": {
  "kernelspec": {
   "display_name": "base",
   "language": "python",
   "name": "python3"
  },
  "language_info": {
   "codemirror_mode": {
    "name": "ipython",
    "version": 3
   },
   "file_extension": ".py",
   "mimetype": "text/x-python",
   "name": "python",
   "nbconvert_exporter": "python",
   "pygments_lexer": "ipython3",
   "version": "3.8.8"
  }
 },
 "nbformat": 4,
 "nbformat_minor": 5
}
