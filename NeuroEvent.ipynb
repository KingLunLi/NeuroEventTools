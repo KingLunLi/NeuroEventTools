{
 "cells": [
  {
   "cell_type": "code",
   "execution_count": 1,
   "id": "6a4dff4a",
   "metadata": {},
   "outputs": [],
   "source": [
    "import pandas as pd\n",
    "import numpy as np\n",
    "from NeuroEvent import Neve"
   ]
  },
  {
   "cell_type": "markdown",
   "id": "49535e6d",
   "metadata": {},
   "source": [
    "### Imaging file 1 (Simple data - 2 columns)"
   ]
  },
  {
   "cell_type": "code",
   "execution_count": 2,
   "id": "2e40e8f4",
   "metadata": {},
   "outputs": [],
   "source": [
    "file_content = \"\"\"Event: Image, Onset: 0.5s\n",
    "Event: Sound, Onset: 1.2s\n",
    "Event: Image, Onset: 2.8s\"\"\""
   ]
  },
  {
   "cell_type": "code",
   "execution_count": null,
   "id": "3b060259",
   "metadata": {},
   "outputs": [
    {
     "name": "stdout",
     "output_type": "stream",
     "text": [
      "  Event Type  Onset(s)\n",
      "0      Image       0.5\n",
      "1      Sound       1.2\n",
      "2      Image       2.8\n"
     ]
    },
    {
     "data": {
      "text/plain": [
       "count    3.000000\n",
       "mean     1.500000\n",
       "std      1.178983\n",
       "min      0.500000\n",
       "25%      0.850000\n",
       "50%      1.200000\n",
       "75%      2.000000\n",
       "max      2.800000\n",
       "Name: Onset(s), dtype: float64"
      ]
     },
     "execution_count": 6,
     "metadata": {},
     "output_type": "execute_result"
    }
   ],
   "source": [
    "#  Create an instance of the Neve class to analyze the neural event data.\n",
    "neural_data_1 = Neve(file_content)\n",
    "\n",
    "# Call NeuroEvent method to parse file_content to a DataFrame\n",
    "nd_df = neural_data_1.NeuroEvent()\n",
    "print(nd_df)\n",
    "\n",
    "# Call the describe method to print descriptive statistics\n",
    "nd_df['Onset(s)'].describe()"
   ]
  },
  {
   "cell_type": "markdown",
   "id": "fb1c4ce3",
   "metadata": {},
   "source": [
    "### Image file 2 (Self Administration)"
   ]
  },
  {
   "cell_type": "code",
   "execution_count": 10,
   "id": "bdea5c9f",
   "metadata": {},
   "outputs": [],
   "source": [
    "file_content2 = \"\"\"[Event: \"Button Press\", Time: 0.8s]\n",
    "[Event: \"Light On\", Time: 1.4s]\n",
    "[Event: \"Sound Played\", Time: 2.2s]\n",
    "[Event: \"Button Press\", Time: 3.0s]\n",
    "[Event: \"Light Off\", Time: 4.1s]\n",
    "[Event: \"Sound Played\", Time: 5.5s]\n",
    "\"\"\""
   ]
  },
  {
   "cell_type": "markdown",
   "id": "23f6c271",
   "metadata": {},
   "source": [
    "##### NeuroEvent code"
   ]
  },
  {
   "cell_type": "code",
   "execution_count": 11,
   "id": "0f4d6ad5",
   "metadata": {},
   "outputs": [
    {
     "data": {
      "text/html": [
       "<div>\n",
       "<style scoped>\n",
       "    .dataframe tbody tr th:only-of-type {\n",
       "        vertical-align: middle;\n",
       "    }\n",
       "\n",
       "    .dataframe tbody tr th {\n",
       "        vertical-align: top;\n",
       "    }\n",
       "\n",
       "    .dataframe thead th {\n",
       "        text-align: right;\n",
       "    }\n",
       "</style>\n",
       "<table border=\"1\" class=\"dataframe\">\n",
       "  <thead>\n",
       "    <tr style=\"text-align: right;\">\n",
       "      <th></th>\n",
       "      <th>Event Type</th>\n",
       "      <th>Time(s)</th>\n",
       "    </tr>\n",
       "  </thead>\n",
       "  <tbody>\n",
       "    <tr>\n",
       "      <th>0</th>\n",
       "      <td>Button Press</td>\n",
       "      <td>0.8</td>\n",
       "    </tr>\n",
       "    <tr>\n",
       "      <th>1</th>\n",
       "      <td>Light On</td>\n",
       "      <td>1.4</td>\n",
       "    </tr>\n",
       "    <tr>\n",
       "      <th>2</th>\n",
       "      <td>Sound Played</td>\n",
       "      <td>2.2</td>\n",
       "    </tr>\n",
       "    <tr>\n",
       "      <th>3</th>\n",
       "      <td>Button Press</td>\n",
       "      <td>3.0</td>\n",
       "    </tr>\n",
       "    <tr>\n",
       "      <th>4</th>\n",
       "      <td>Light Off</td>\n",
       "      <td>4.1</td>\n",
       "    </tr>\n",
       "    <tr>\n",
       "      <th>5</th>\n",
       "      <td>Sound Played</td>\n",
       "      <td>5.5</td>\n",
       "    </tr>\n",
       "  </tbody>\n",
       "</table>\n",
       "</div>"
      ],
      "text/plain": [
       "     Event Type  Time(s)\n",
       "0  Button Press      0.8\n",
       "1      Light On      1.4\n",
       "2  Sound Played      2.2\n",
       "3  Button Press      3.0\n",
       "4     Light Off      4.1\n",
       "5  Sound Played      5.5"
      ]
     },
     "execution_count": 11,
     "metadata": {},
     "output_type": "execute_result"
    }
   ],
   "source": [
    "def NeuroEvent2(content):\n",
    "    \"\"\"\n",
    "    Parses the file content to extract event data.\n",
    "    This method outputs a DataFrame containing the event data in the following format:\n",
    "    Event Type\tOnset(s)\n",
    "\tButton Press\t0.8\n",
    "\tLight On\t    1.4\n",
    "\tSound Played\t2.2\n",
    "\n",
    "    \"\"\"\n",
    "\n",
    "    events = []\n",
    "    for lines in content.splitlines():\n",
    "        parts = lines.strip('[]').split(\", \")\n",
    "        event_type = parts[0].split(\": \")[1].strip('\"\"')\n",
    "        time = float(parts[1].split(\": \")[1][:-1])\n",
    "        \n",
    "        events.append({\"Event Type\": event_type, \"Time(s)\": time})\n",
    "    return pd.DataFrame(events)\n",
    "\n",
    "events_df2 = NeuroEvent2(file_content2)\n",
    "events_df2"
   ]
  },
  {
   "cell_type": "markdown",
   "id": "aa30b39d",
   "metadata": {},
   "source": [
    "### Imaging file 3 (JSON - self administration)"
   ]
  },
  {
   "cell_type": "code",
   "execution_count": 12,
   "id": "a961e628",
   "metadata": {},
   "outputs": [],
   "source": [
    "file_content3 = \"\"\"{\n",
    "    \"Events\": [\n",
    "        {\"Name\": \"Visual Stimulus\", \"Onset\": 0.5, \"Duration\": 1.2, \"Properties\": {\"Type\": \"Image\", \"Color\": \"Red\"}},\n",
    "        {\"Name\": \"Auditory Stimulus\", \"Onset\": 2.0, \"Duration\": 1.0, \"Properties\": {\"Type\": \"Sound\", \"Frequency\": \"500Hz\"}},\n",
    "        {\"Name\": \"Tactile Stimulus\", \"Onset\": 3.5, \"Duration\": 2.0, \"Properties\": {\"Type\": \"Touch\", \"Intensity\": \"Medium\"}},\n",
    "        {\"Name\": \"Visual Stimulus\", \"Onset\": 6.0, \"Duration\": 1.5, \"Properties\": {\"Type\": \"Image\", \"Color\": \"Blue\"}}\n",
    "    ]\n",
    "}\"\"\""
   ]
  },
  {
   "cell_type": "markdown",
   "id": "9d17be79",
   "metadata": {},
   "source": [
    "##### NeuroEvent code"
   ]
  },
  {
   "cell_type": "code",
   "execution_count": 13,
   "id": "e01e19f5",
   "metadata": {},
   "outputs": [
    {
     "data": {
      "text/html": [
       "<div>\n",
       "<style scoped>\n",
       "    .dataframe tbody tr th:only-of-type {\n",
       "        vertical-align: middle;\n",
       "    }\n",
       "\n",
       "    .dataframe tbody tr th {\n",
       "        vertical-align: top;\n",
       "    }\n",
       "\n",
       "    .dataframe thead th {\n",
       "        text-align: right;\n",
       "    }\n",
       "</style>\n",
       "<table border=\"1\" class=\"dataframe\">\n",
       "  <thead>\n",
       "    <tr style=\"text-align: right;\">\n",
       "      <th></th>\n",
       "      <th>Name</th>\n",
       "      <th>Onset</th>\n",
       "      <th>Duration</th>\n",
       "      <th>Type</th>\n",
       "      <th>Color</th>\n",
       "      <th>Frequency</th>\n",
       "      <th>Intensity</th>\n",
       "    </tr>\n",
       "  </thead>\n",
       "  <tbody>\n",
       "    <tr>\n",
       "      <th>0</th>\n",
       "      <td>Visual Stimulus</td>\n",
       "      <td>0.5</td>\n",
       "      <td>1.2</td>\n",
       "      <td>Image</td>\n",
       "      <td>Red</td>\n",
       "      <td>NaN</td>\n",
       "      <td>NaN</td>\n",
       "    </tr>\n",
       "    <tr>\n",
       "      <th>1</th>\n",
       "      <td>Auditory Stimulus</td>\n",
       "      <td>2.0</td>\n",
       "      <td>1.0</td>\n",
       "      <td>Sound</td>\n",
       "      <td>NaN</td>\n",
       "      <td>500Hz</td>\n",
       "      <td>NaN</td>\n",
       "    </tr>\n",
       "    <tr>\n",
       "      <th>2</th>\n",
       "      <td>Tactile Stimulus</td>\n",
       "      <td>3.5</td>\n",
       "      <td>2.0</td>\n",
       "      <td>Touch</td>\n",
       "      <td>NaN</td>\n",
       "      <td>NaN</td>\n",
       "      <td>Medium</td>\n",
       "    </tr>\n",
       "    <tr>\n",
       "      <th>3</th>\n",
       "      <td>Visual Stimulus</td>\n",
       "      <td>6.0</td>\n",
       "      <td>1.5</td>\n",
       "      <td>Image</td>\n",
       "      <td>Blue</td>\n",
       "      <td>NaN</td>\n",
       "      <td>NaN</td>\n",
       "    </tr>\n",
       "  </tbody>\n",
       "</table>\n",
       "</div>"
      ],
      "text/plain": [
       "                Name  Onset  Duration   Type Color Frequency Intensity\n",
       "0    Visual Stimulus    0.5       1.2  Image   Red       NaN       NaN\n",
       "1  Auditory Stimulus    2.0       1.0  Sound   NaN     500Hz       NaN\n",
       "2   Tactile Stimulus    3.5       2.0  Touch   NaN       NaN    Medium\n",
       "3    Visual Stimulus    6.0       1.5  Image  Blue       NaN       NaN"
      ]
     },
     "execution_count": 13,
     "metadata": {},
     "output_type": "execute_result"
    }
   ],
   "source": [
    "import json\n",
    "\n",
    "def NeuroEvent3(content):\n",
    "    \"\"\"\n",
    "    Use json.loads() to load the file content into a Python dictionary\n",
    "    Parses the file content to extract event data.\n",
    "    This method outputs a DataFrame containing the event data in the following format:\n",
    "\tName\t            Onset\tDuration\tType\tColor\tFrequency\tIntensity\n",
    "\tVisual Stimulus\t    0.5\t    1.2\t        Image\tRed\t    NaN\t        NaN\n",
    "\tAuditory Stimulus\t2.0\t    1.0\t        Sound\tNaN\t    500Hz\t    NaN\n",
    "\n",
    "    \"\"\"\n",
    "    flattened_events = []\n",
    "\n",
    "    data = json.loads(file_content3)\n",
    "    json_content = data[\"Events\"]\n",
    "    for event in json_content:\n",
    "        flat_event = {\n",
    "            \"Name\": event.get(\"Name\", None),\n",
    "            \"Onset\": event.get(\"Onset\", None),\n",
    "            \"Duration\": event.get(\"Duration\", None),\n",
    "            **event.get(\"Properties\", {})\n",
    "        }\n",
    "        flattened_events.append(flat_event)\n",
    "    return pd.DataFrame(flattened_events)\n",
    "\n",
    "events_df3 = NeuroEvent3(file_content3)\n",
    "events_df3\n"
   ]
  }
 ],
 "metadata": {
  "kernelspec": {
   "display_name": "base",
   "language": "python",
   "name": "python3"
  },
  "language_info": {
   "codemirror_mode": {
    "name": "ipython",
    "version": 3
   },
   "file_extension": ".py",
   "mimetype": "text/x-python",
   "name": "python",
   "nbconvert_exporter": "python",
   "pygments_lexer": "ipython3",
   "version": "3.8.8"
  }
 },
 "nbformat": 4,
 "nbformat_minor": 5
}
